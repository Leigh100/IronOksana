{
 "cells": [
  {
   "cell_type": "markdown",
   "metadata": {},
   "source": [
    "**List with random unique numbers:**"
   ]
  },
  {
   "cell_type": "code",
   "execution_count": 3,
   "metadata": {},
   "outputs": [
    {
     "name": "stdout",
     "output_type": "stream",
     "text": [
      "[71, 85, 18, 13, 36, 21, 22, 17, 19, 69, 33, 24, 98, 82, 16, 55, 39, 68, 90, 44, 58, 75, 26, 77, 88, 45, 49, 0, 89, 52, 46, 11, 96, 47, 32, 56, 86, 51, 1, 60, 27, 92, 62, 40, 23, 63, 99, 34, 67, 97, 61, 10, 84, 9, 29, 35, 73, 50, 42, 28, 70, 31, 30, 8, 94, 3, 20, 81, 54, 38, 87, 76, 74, 93, 4, 41, 12, 83, 79, 91]\n"
     ]
    }
   ],
   "source": [
    "import random\n",
    "\n",
    "# create list of 80 random numbers\n",
    "sample_list_1 = random.sample(range(100), 80)\n",
    "print(sample_list_1)"
   ]
  },
  {
   "cell_type": "code",
   "execution_count": 4,
   "metadata": {},
   "outputs": [
    {
     "data": {
      "text/plain": [
       "80"
      ]
     },
     "execution_count": 4,
     "metadata": {},
     "output_type": "execute_result"
    }
   ],
   "source": [
    "len(sample_list_1)"
   ]
  },
  {
   "cell_type": "markdown",
   "metadata": {},
   "source": [
    "**Convert sample_list_1 to a set called set1. Print the length of the set. Is its length still 80?**"
   ]
  },
  {
   "cell_type": "code",
   "execution_count": 5,
   "metadata": {},
   "outputs": [
    {
     "name": "stdout",
     "output_type": "stream",
     "text": [
      "{0, 1, 3, 4, 8, 9, 10, 11, 12, 13, 16, 17, 18, 19, 20, 21, 22, 23, 24, 26, 27, 28, 29, 30, 31, 32, 33, 34, 35, 36, 38, 39, 40, 41, 42, 44, 45, 46, 47, 49, 50, 51, 52, 54, 55, 56, 58, 60, 61, 62, 63, 67, 68, 69, 70, 71, 73, 74, 75, 76, 77, 79, 81, 82, 83, 84, 85, 86, 87, 88, 89, 90, 91, 92, 93, 94, 96, 97, 98, 99}\n"
     ]
    }
   ],
   "source": [
    "set1=set(sample_list_1)\n",
    "print(set1)"
   ]
  },
  {
   "cell_type": "code",
   "execution_count": 6,
   "metadata": {},
   "outputs": [
    {
     "data": {
      "text/plain": [
       "80"
      ]
     },
     "execution_count": 6,
     "metadata": {},
     "output_type": "execute_result"
    }
   ],
   "source": [
    "len(set1)"
   ]
  },
  {
   "cell_type": "markdown",
   "metadata": {},
   "source": [
    "**Create another list named sample_list_2 with 80 random values.**"
   ]
  },
  {
   "cell_type": "code",
   "execution_count": 7,
   "metadata": {},
   "outputs": [
    {
     "name": "stdout",
     "output_type": "stream",
     "text": [
      "[1, 18, 87, 14, 30, 19, 18, 66, 7, 72, 98, 47, 60, 74, 94, 20, 78, 62, 100, 65, 88, 11, 17, 15, 17, 19, 43, 51, 45, 46, 67, 55, 21, 37, 70, 91, 1, 84, 4, 80, 55, 13, 11, 46, 70, 14, 14, 88, 99, 67, 80, 24, 19, 55, 63, 93, 45, 28, 1, 41, 14, 59, 69, 43, 12, 54, 73, 89, 84, 29, 51, 88, 87, 71, 8, 9, 11, 71, 74, 8]\n"
     ]
    }
   ],
   "source": [
    "import random\n",
    " \n",
    "sample_list_2=[]\n",
    "n=80\n",
    "for i in range(n):\n",
    "    sample_list_2.append(random.randint(1, 100))\n",
    "print(sample_list_2)"
   ]
  },
  {
   "cell_type": "code",
   "execution_count": 8,
   "metadata": {},
   "outputs": [
    {
     "data": {
      "text/plain": [
       "80"
      ]
     },
     "execution_count": 8,
     "metadata": {},
     "output_type": "execute_result"
    }
   ],
   "source": [
    "len(sample_list_2)"
   ]
  },
  {
   "cell_type": "markdown",
   "metadata": {},
   "source": [
    "**Convert sample_list_2 to a set called set2. Print the length of the set. Is its length still 80?**"
   ]
  },
  {
   "cell_type": "code",
   "execution_count": 9,
   "metadata": {},
   "outputs": [
    {
     "name": "stdout",
     "output_type": "stream",
     "text": [
      "{1, 4, 7, 8, 9, 11, 12, 13, 14, 15, 17, 18, 19, 20, 21, 24, 28, 29, 30, 37, 41, 43, 45, 46, 47, 51, 54, 55, 59, 60, 62, 63, 65, 66, 67, 69, 70, 71, 72, 73, 74, 78, 80, 84, 87, 88, 89, 91, 93, 94, 98, 99, 100}\n"
     ]
    }
   ],
   "source": [
    "set2=set(sample_list_2)\n",
    "print(set2)"
   ]
  },
  {
   "cell_type": "code",
   "execution_count": 10,
   "metadata": {},
   "outputs": [
    {
     "data": {
      "text/plain": [
       "53"
      ]
     },
     "execution_count": 10,
     "metadata": {},
     "output_type": "execute_result"
    }
   ],
   "source": [
    "len(set2)"
   ]
  },
  {
   "cell_type": "markdown",
   "metadata": {},
   "source": [
    "**Identify the elements present in set1 but not in set2. Assign the elements to a new set named set3**"
   ]
  },
  {
   "cell_type": "code",
   "execution_count": 12,
   "metadata": {},
   "outputs": [
    {
     "name": "stdout",
     "output_type": "stream",
     "text": [
      "{0, 3, 10, 16, 22, 23, 26, 27, 31, 32, 33, 34, 35, 36, 38, 39, 40, 42, 44, 49, 50, 52, 56, 58, 61, 68, 75, 76, 77, 79, 81, 82, 83, 85, 86, 90, 92, 96, 97}\n"
     ]
    }
   ],
   "source": [
    "A = set1\n",
    "B = set2\n",
    "set3=[]\n",
    "\n",
    "set3 = A-B\n",
    "print(set3)"
   ]
  },
  {
   "cell_type": "markdown",
   "metadata": {},
   "source": [
    "**Identify the elements present in set2 but not in set1. Assign the elements to a new set named set4**"
   ]
  },
  {
   "cell_type": "code",
   "execution_count": 13,
   "metadata": {},
   "outputs": [
    {
     "name": "stdout",
     "output_type": "stream",
     "text": [
      "{65, 66, 100, 37, 7, 72, 43, 14, 15, 78, 80, 59}\n"
     ]
    }
   ],
   "source": [
    "A = set1\n",
    "B = set2\n",
    "set4=[]\n",
    "\n",
    "set4 = B-A\n",
    "print(set4)"
   ]
  },
  {
   "cell_type": "markdown",
   "metadata": {},
   "source": [
    "**Now Identify the elements shared between set1 and set2. Assign the elements to a new set named set5.**"
   ]
  },
  {
   "cell_type": "code",
   "execution_count": 14,
   "metadata": {},
   "outputs": [
    {
     "name": "stdout",
     "output_type": "stream",
     "text": [
      "{1, 4, 8, 9, 11, 12, 13, 17, 18, 19, 20, 21, 24, 28, 29, 30, 41, 45, 46, 47, 51, 54, 55, 60, 62, 63, 67, 69, 70, 71, 73, 74, 84, 87, 88, 89, 91, 93, 94, 98, 99}\n"
     ]
    }
   ],
   "source": [
    "set5 = set1.intersection(set2)\n",
    "print(set5)"
   ]
  },
  {
   "cell_type": "code",
   "execution_count": null,
   "metadata": {},
   "outputs": [],
   "source": []
  },
  {
   "cell_type": "code",
   "execution_count": null,
   "metadata": {},
   "outputs": [],
   "source": []
  }
 ],
 "metadata": {
  "kernelspec": {
   "display_name": "Python 3",
   "language": "python",
   "name": "python3"
  },
  "language_info": {
   "codemirror_mode": {
    "name": "ipython",
    "version": 3
   },
   "file_extension": ".py",
   "mimetype": "text/x-python",
   "name": "python",
   "nbconvert_exporter": "python",
   "pygments_lexer": "ipython3",
   "version": "3.8.5"
  }
 },
 "nbformat": 4,
 "nbformat_minor": 4
}
