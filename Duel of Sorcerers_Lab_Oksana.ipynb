{
 "cells": [
  {
   "cell_type": "markdown",
   "metadata": {},
   "source": [
    "1. Create two variables called `gandalf` and `saruman` and assign them the spell power lists. Create a variable called `spells` to store the number of spells that the sorcerers cast. "
   ]
  },
  {
   "cell_type": "code",
   "execution_count": 39,
   "metadata": {},
   "outputs": [],
   "source": [
    "gandalf = [10, 11, 13, 30, 22, 11, 10, 33, 22, 22]\n",
    "saruman = [23, 66, 12, 43, 12, 10, 44, 23, 12, 17]\n"
   ]
  },
  {
   "cell_type": "markdown",
   "metadata": {},
   "source": [
    "2. Create two variables called gandalf_wins and saruman_wins. Set both of them to 0.\n",
    "You will use these variables to count the number of clashes each sorcerer wins."
   ]
  },
  {
   "cell_type": "code",
   "execution_count": 40,
   "metadata": {},
   "outputs": [],
   "source": [
    "gandalf_wins = 0\n",
    "saruman_wins = 0\n"
   ]
  },
  {
   "cell_type": "markdown",
   "metadata": {},
   "source": [
    "3. Using the lists of spells of both sorcerers, update variables gandalf_wins and saruman_wins to count the number of times each sorcerer wins a clash"
   ]
  },
  {
   "cell_type": "code",
   "execution_count": 41,
   "metadata": {},
   "outputs": [],
   "source": [
    "for item in range (0, len(gandalf)):\n",
    "    if gandalf[item]>saruman[item]:\n",
    "        gandalf_wins=gandalf_wins+1\n",
    "    elif saruman [item]>gandalf[item]:\n",
    "        saruman_wins = saruman_wins+1\n",
    "\n"
   ]
  },
  {
   "cell_type": "markdown",
   "metadata": {},
   "source": [
    "4. Who won the battle?"
   ]
  },
  {
   "cell_type": "code",
   "execution_count": 42,
   "metadata": {},
   "outputs": [
    {
     "name": "stdout",
     "output_type": "stream",
     "text": [
      "Gandalf won the battle\n"
     ]
    }
   ],
   "source": [
    "if gandalf_wins>saruman_wins:\n",
    "    print(\"Gandalf won the battle\")\n",
    "elif saruman_wins>gandalf_wins:\n",
    "    print (\"Saruman won the battle\")\n",
    "else:\n",
    "    print (\"It is a tie\")\n"
   ]
  },
  {
   "cell_type": "markdown",
   "metadata": {},
   "source": [
    "Bonus  \n",
    "In this bonus challenge, you'll need to check the winner of the battle but this time, a sorcerer wins if he succeeds in winning 3 spell clashes in a row.\n",
    "\n",
    "Also, the spells now have a name and there is a dictionary that associates that name to a power.  \n",
    "Create variables POWER, gandalf and saruman as seen above. Create a variable called spells to store the number of spells that the sorcerers cast"
   ]
  },
  {
   "cell_type": "code",
   "execution_count": 44,
   "metadata": {},
   "outputs": [],
   "source": [
    "power = {\n",
    "    'Fireball': 50, \n",
    "    'Lightning bolt': 40, \n",
    "    'Magic arrow': 10, \n",
    "    'Black Tentacles': 25, \n",
    "    'Contagion': 45\n",
    "}\n",
    "\n",
    "gandalf = ['Fireball', 'Lightning bolt', 'Lightning bolt', 'Magic arrow', 'Fireball', \n",
    "           'Magic arrow', 'Lightning bolt', 'Fireball', 'Fireball', 'Fireball']\n",
    "saruman = ['Contagion', 'Contagion', 'Black Tentacles', 'Fireball', 'Black Tentacles', \n",
    "           'Lightning bolt', 'Magic arrow', 'Contagion', 'Magic arrow', 'Magic arrow']"
   ]
  },
  {
   "cell_type": "markdown",
   "metadata": {},
   "source": [
    " Create two variables called gandalf_wins and saruman_wins. Set both of them to 0."
   ]
  },
  {
   "cell_type": "code",
   "execution_count": 45,
   "metadata": {},
   "outputs": [],
   "source": [
    "gandalf_wins = 0\n",
    "saruman_wins = 0"
   ]
  },
  {
   "cell_type": "markdown",
   "metadata": {},
   "source": [
    "Create two variables called gandalf_power and saruman_power to store the list of spell powers of each sorcerer."
   ]
  },
  {
   "cell_type": "code",
   "execution_count": 46,
   "metadata": {},
   "outputs": [],
   "source": [
    "gandalf_power = []\n",
    "saruman_power = []"
   ]
  },
  {
   "cell_type": "markdown",
   "metadata": {},
   "source": [
    "The battle starts! Using the variables you've created above, code the execution of spell clashes. Remember that a sorcerer wins if he succeeds in winning 3 spell clashes in a row."
   ]
  },
  {
   "cell_type": "code",
   "execution_count": 63,
   "metadata": {},
   "outputs": [
    {
     "name": "stdout",
     "output_type": "stream",
     "text": [
      "Gandalf's score: [50, 40, 40, 10, 50, 10, 40, 50, 50, 50]\n",
      "Saruman's score: [45, 45, 25, 50, 25, 40, 10, 45, 10, 10]\n"
     ]
    }
   ],
   "source": [
    "power = {\n",
    "    'Fireball': 50, \n",
    "    'Lightning bolt': 40, \n",
    "    'Magic arrow': 10, \n",
    "    'Black Tentacles': 25, \n",
    "    'Contagion': 45\n",
    "}\n",
    "\n",
    "gandalf = ['Fireball', 'Lightning bolt', 'Lightning bolt', 'Magic arrow', 'Fireball', \n",
    "           'Magic arrow', 'Lightning bolt', 'Fireball', 'Fireball', 'Fireball']\n",
    "saruman = ['Contagion', 'Contagion', 'Black Tentacles', 'Fireball', 'Black Tentacles', \n",
    "           'Lightning bolt', 'Magic arrow', 'Contagion', 'Magic arrow', 'Magic arrow']\n",
    "\n",
    "gandalf_wins = 0\n",
    "saruman_wins = 0\n",
    "gandalf_power = []\n",
    "saruman_power = []\n",
    "\n",
    "\n",
    "for item in gandalf:\n",
    "    gandalf_power.append(power[item])\n",
    "for item in saruman:\n",
    "    saruman_power.append(power[item])\n",
    "print(f\"Gandalf's score: {gandalf_power}\")\n",
    "print(f\"Saruman's score: {saruman_power}\")\n",
    "\n"
   ]
  },
  {
   "cell_type": "code",
   "execution_count": 66,
   "metadata": {},
   "outputs": [
    {
     "name": "stdout",
     "output_type": "stream",
     "text": [
      "Gandalf's score: [50, 40, 40, 10, 50, 10, 40, 50, 50, 50]\n",
      "Saruman's score: [45, 45, 25, 50, 25, 40, 10, 45, 10, 10]\n"
     ]
    }
   ],
   "source": [
    "power = {\n",
    "    'Fireball': 50, \n",
    "    'Lightning bolt': 40, \n",
    "    'Magic arrow': 10, \n",
    "    'Black Tentacles': 25, \n",
    "    'Contagion': 45\n",
    "}\n",
    "\n",
    "gandalf = ['Fireball', 'Lightning bolt', 'Lightning bolt', 'Magic arrow', 'Fireball', \n",
    "           'Magic arrow', 'Lightning bolt', 'Fireball', 'Fireball', 'Fireball']\n",
    "saruman = ['Contagion', 'Contagion', 'Black Tentacles', 'Fireball', 'Black Tentacles', \n",
    "           'Lightning bolt', 'Magic arrow', 'Contagion', 'Magic arrow', 'Magic arrow']\n",
    "\n",
    "gandalf_wins = 0\n",
    "saruman_wins = 0\n",
    "\n",
    "\n",
    "#gandalf_power = []\n",
    "#saruma_power = []\n",
    "\n",
    "#for item in gandalf:\n",
    "   # gandalf_power.append(power[item])\n",
    "#for item in saruman:\n",
    "    #saruman_power.append(power[item])\n",
    "    \n",
    "#List comprehensions:\n",
    "gandalf_power = [power[item] for item in gandalf]\n",
    "saruman_power = [power[item] for item in saruman]\n",
    "\n",
    "\n",
    "print(f\"Gandalf's score: {gandalf_power}\")\n",
    "print(f\"Saruman's score: {saruman_power}\")"
   ]
  },
  {
   "cell_type": "markdown",
   "metadata": {},
   "source": [
    "4. The battle starts! Using the variables you've created above, code the execution of spell clashes. Remember that a sorcerer wins if he succeeds in winning 3 spell clashes in a row.\n",
    "If a clash ends up in a tie, the counter of wins in a row is not restarted to 0. Remember to print who is the winner of the battle."
   ]
  },
  {
   "cell_type": "code",
   "execution_count": 71,
   "metadata": {},
   "outputs": [
    {
     "name": "stdout",
     "output_type": "stream",
     "text": [
      "> Round 0: Gandalf: 50, Saruman: 45\n",
      "> Round 1: Gandalf: 40, Saruman: 45\n",
      "> Round 2: Gandalf: 40, Saruman: 25\n",
      "> Round 3: Gandalf: 10, Saruman: 50\n",
      "> Round 4: Gandalf: 50, Saruman: 25\n",
      "> Round 5: Gandalf: 10, Saruman: 40\n",
      "> Round 6: Gandalf: 40, Saruman: 10\n",
      "> Round 7: Gandalf: 50, Saruman: 45\n",
      "> Round 8: Gandalf: 50, Saruman: 10\n",
      "> Round 9: Gandalf: 50, Saruman: 10\n"
     ]
    }
   ],
   "source": [
    "for battle_round in range(len(gandalf_power)):\n",
    "    g_score = gandalf_power[battle_round]\n",
    "    s_score = saruman_power[battle_round]\n",
    "    \n",
    "    print(f\"> Round {battle_round}: Gandalf: {g_score}, Saruman: {s_score}\")\n",
    "    "
   ]
  },
  {
   "cell_type": "code",
   "execution_count": 82,
   "metadata": {},
   "outputs": [
    {
     "name": "stdout",
     "output_type": "stream",
     "text": [
      "> Round 0: Gandalf: 50, Saruman: 45\n",
      "Gandalf wins this round! 1 round(s) in a row.\n",
      "> Round 1: Gandalf: 40, Saruman: 45\n",
      "Saruman wins the round! 1 round(s) in a row.\n",
      "> Round 2: Gandalf: 40, Saruman: 25\n",
      "Gandalf wins this round! 1 round(s) in a row.\n",
      "> Round 3: Gandalf: 10, Saruman: 50\n",
      "Saruman wins the round! 1 round(s) in a row.\n",
      "> Round 4: Gandalf: 50, Saruman: 25\n",
      "Gandalf wins this round! 1 round(s) in a row.\n",
      "> Round 5: Gandalf: 10, Saruman: 40\n",
      "Saruman wins the round! 1 round(s) in a row.\n",
      "> Round 6: Gandalf: 40, Saruman: 10\n",
      "Gandalf wins this round! 1 round(s) in a row.\n",
      "> Round 7: Gandalf: 50, Saruman: 45\n",
      "Gandalf wins this round! 2 round(s) in a row.\n",
      "> Round 8: Gandalf: 50, Saruman: 10\n",
      "Gandalf wins this round! 3 round(s) in a row.\n",
      "> Round 9: Gandalf: 50, Saruman: 10\n",
      "Gandalf wins this round! 4 round(s) in a row.\n"
     ]
    }
   ],
   "source": [
    "last_winner = None\n",
    "for battle_round in range(len(gandalf_power)):\n",
    "    g_score = gandalf_power[battle_round]\n",
    "    s_score = saruman_power[battle_round]\n",
    "    \n",
    "    print(f\"> Round {battle_round}: Gandalf: {g_score}, Saruman: {s_score}\")\n",
    "\n",
    "    if g_score == s_score:\n",
    "        print(f\"It's a tie!\")\n",
    "    if g_score > s_score:\n",
    "        if last_winner != 'Gandalf':\n",
    "            last_winner = 'Gandalf'\n",
    "            gandalf_wins = 1\n",
    "        else:\n",
    "            gandalf_wins = gandalf_wins + 1\n",
    "        print(f\"Gandalf wins this round! {gandalf_wins} round(s) in a row.\")\n",
    "        \n",
    "    if g_score < s_score:\n",
    "        if last_winner != 'Saruman':\n",
    "            last_winner = 'Saruman'\n",
    "            saruman_wins = 1\n",
    "        else:\n",
    "            saruman_wins = saruman_wins + 1\n",
    "        print(f\"Saruman wins the round! {saruman_wins} round(s) in a row.\")"
   ]
  },
  {
   "cell_type": "code",
   "execution_count": 114,
   "metadata": {},
   "outputs": [
    {
     "name": "stdout",
     "output_type": "stream",
     "text": [
      "Gandalf's score: [50, 40, 40, 10, 50, 10, 40, 50, 50, 50]\n",
      "Saruman's score: [45, 45, 25, 50, 25, 40, 10, 45, 10, 10]\n",
      "> Round 0: Gandalf: 50, Saruman: 45\n",
      "Gandalf wins this round! 1 round(s) in a row.\n",
      "It is a tie\n",
      "> Round 1: Gandalf: 40, Saruman: 45\n",
      "Saruman wins the round! 1 round(s) in a row.\n",
      "It is a tie\n",
      "> Round 2: Gandalf: 40, Saruman: 25\n",
      "Gandalf wins this round! 1 round(s) in a row.\n",
      "It is a tie\n",
      "> Round 3: Gandalf: 10, Saruman: 50\n",
      "Saruman wins the round! 1 round(s) in a row.\n",
      "It is a tie\n",
      "> Round 4: Gandalf: 50, Saruman: 25\n",
      "Gandalf wins this round! 1 round(s) in a row.\n",
      "It is a tie\n",
      "> Round 5: Gandalf: 10, Saruman: 40\n",
      "Saruman wins the round! 1 round(s) in a row.\n",
      "It is a tie\n",
      "> Round 6: Gandalf: 40, Saruman: 10\n",
      "Gandalf wins this round! 1 round(s) in a row.\n",
      "It is a tie\n",
      "> Round 7: Gandalf: 50, Saruman: 45\n",
      "Gandalf wins this round! 2 round(s) in a row.\n",
      "It is a tie\n",
      "> Round 8: Gandalf: 50, Saruman: 10\n",
      "Gandalf wins this round! 3 round(s) in a row.\n",
      "Gandalf won the battle\n"
     ]
    }
   ],
   "source": [
    "power = {\n",
    "    'Fireball': 50, \n",
    "    'Lightning bolt': 40, \n",
    "    'Magic arrow': 10, \n",
    "    'Black Tentacles': 25, \n",
    "    'Contagion': 45\n",
    "}\n",
    "\n",
    "gandalf = ['Fireball', 'Lightning bolt', 'Lightning bolt', 'Magic arrow', 'Fireball', \n",
    "           'Magic arrow', 'Lightning bolt', 'Fireball', 'Fireball', 'Fireball']\n",
    "saruman = ['Contagion', 'Contagion', 'Black Tentacles', 'Fireball', 'Black Tentacles', \n",
    "           'Lightning bolt', 'Magic arrow', 'Contagion', 'Magic arrow', 'Magic arrow']\n",
    "\n",
    "gandalf_wins = 0\n",
    "saruman_wins = 0\n",
    "\n",
    "\n",
    "#gandalf_power = []\n",
    "#saruma_power = []\n",
    "\n",
    "#for item in gandalf:\n",
    "   # gandalf_power.append(power[item])\n",
    "#for item in saruman:\n",
    "    #saruman_power.append(power[item])\n",
    "    \n",
    "#List comprehensions:\n",
    "gandalf_power = [power[item] for item in gandalf]\n",
    "saruman_power = [power[item] for item in saruman]\n",
    "\n",
    "\n",
    "print(f\"Gandalf's score: {gandalf_power}\")\n",
    "print(f\"Saruman's score: {saruman_power}\")\n",
    "\n",
    "last_winner = None\n",
    "for battle_round in range(len(gandalf_power)):\n",
    "    g_score = gandalf_power[battle_round]\n",
    "    s_score = saruman_power[battle_round]\n",
    "    print(f\"> Round {battle_round}: Gandalf: {g_score}, Saruman: {s_score}\")\n",
    "\n",
    "    if g_score == s_score:\n",
    "        print(f\"It's a tie!\")\n",
    "    if g_score > s_score:\n",
    "        if last_winner != 'Gandalf':\n",
    "            last_winner = 'Gandalf'\n",
    "            gandalf_wins = 1\n",
    "        else:\n",
    "                gandalf_wins = gandalf_wins + 1\n",
    "        print(f\"Gandalf wins this round! {gandalf_wins} round(s) in a row.\")\n",
    "        \n",
    "    if g_score < s_score:\n",
    "        if last_winner != 'Saruman':\n",
    "            last_winner = 'Saruman'\n",
    "            saruman_wins = 1\n",
    "        else:\n",
    "            saruman_wins = saruman_wins + 1\n",
    "        print(f\"Saruman wins the round! {saruman_wins} round(s) in a row.\")\n",
    "\n",
    "    if gandalf_wins == 3:\n",
    "        print (\"Gandalf won the battle\")\n",
    "        break\n",
    "        \n",
    "    if saruman_wins == 3:\n",
    "        print (\"Saruman won the battle\")\n",
    "        break\n",
    "    \n",
    "    print ('It is a tie')"
   ]
  },
  {
   "cell_type": "code",
   "execution_count": 117,
   "metadata": {},
   "outputs": [
    {
     "name": "stdout",
     "output_type": "stream",
     "text": [
      "Gandalf's score: [50, 40, 40, 10, 50, 10, 40, 50, 50, 50]\n",
      "Saruman's score: [45, 45, 25, 50, 25, 40, 10, 45, 10, 10]\n",
      "> Round 0: Gandalf: 50, Saruman: 45\n",
      "Gandalf wins the round! 1 round(s) in a row.\n",
      "It is a tie\n",
      "> Round 1: Gandalf: 40, Saruman: 45\n",
      "Saruman wins the round! 1 round(s) in a row.\n",
      "It is a tie\n",
      "> Round 2: Gandalf: 40, Saruman: 25\n",
      "Gandalf wins the round! 1 round(s) in a row.\n",
      "It is a tie\n",
      "> Round 3: Gandalf: 10, Saruman: 50\n",
      "Saruman wins the round! 1 round(s) in a row.\n",
      "It is a tie\n",
      "> Round 4: Gandalf: 50, Saruman: 25\n",
      "Gandalf wins the round! 1 round(s) in a row.\n",
      "It is a tie\n",
      "> Round 5: Gandalf: 10, Saruman: 40\n",
      "Saruman wins the round! 1 round(s) in a row.\n",
      "It is a tie\n",
      "> Round 6: Gandalf: 40, Saruman: 10\n",
      "Gandalf wins the round! 1 round(s) in a row.\n",
      "It is a tie\n",
      "> Round 7: Gandalf: 50, Saruman: 45\n",
      "Gandalf wins the round! 2 round(s) in a row.\n",
      "It is a tie\n",
      "> Round 8: Gandalf: 50, Saruman: 10\n",
      "Gandalf wins the round! 3 round(s) in a row.\n",
      "Gandalf is the winner of the battle\n"
     ]
    }
   ],
   "source": [
    "power = {\n",
    "    'Fireball': 50,\n",
    "    'Lightning bolt': 40,\n",
    "    'Magic arrow': 10,\n",
    "    'Black Tentacles': 25,\n",
    "    'Contagion': 45\n",
    "}\n",
    "gandalf = ['Fireball', 'Lightning bolt', 'Lightning bolt', 'Magic arrow', 'Fireball',\n",
    "           'Magic arrow', 'Lightning bolt', 'Fireball', 'Fireball', 'Fireball']\n",
    "saruman = ['Contagion', 'Contagion', 'Black Tentacles', 'Fireball', 'Black Tentacles',\n",
    "           'Lightning bolt', 'Magic arrow', 'Contagion', 'Magic arrow', 'Magic arrow']\n",
    "\n",
    "gandalf_wins = 0\n",
    "saruman_wins = 0\n",
    "\n",
    "gandalf_power = []\n",
    "saruman_power = []\n",
    "\n",
    "\n",
    "#for spell_name in gandalf:\n",
    "    #gandalf_power.append(POWER[spell_name])\n",
    "#for spell_name in saruman:\n",
    "    #saruman_power.append(POWER[spell_name])\n",
    "    \n",
    "#List comprehensions:\n",
    "gandalf_power = [power[item] for item in gandalf]\n",
    "saruman_power = [power[item] for item in saruman]\n",
    "\n",
    "print(f\"Gandalf's score: {gandalf_power}\")\n",
    "print(f\"Saruman's score: {saruman_power}\")\n",
    "\n",
    "last_winner = None\n",
    "\n",
    "for battle_round in range(len(gandalf_power)):\n",
    "    g_scores = gandalf_power[battle_round]\n",
    "    s_scores = saruman_power[battle_round]\n",
    "    print(f\"> Round {battle_round}: Gandalf: {g_scores}, Saruman: {s_scores}\")\n",
    "    \n",
    "    if g_scores  == s_scores:\n",
    "        print(f\"It's a tie!\")\n",
    "    if g_scores  > s_scores:\n",
    "        if last_winner != 'Gandalf':\n",
    "            last_winner = 'Gandalf'\n",
    "            gandalf_wins = 1\n",
    "        else:\n",
    "               gandalf_wins = gandalf_wins + 1\n",
    "        print(f\"Gandalf wins the round! {gandalf_wins} round(s) in a row.\")\n",
    "    if g_scores < s_scores:\n",
    "        if last_winner != 'Saruman':\n",
    "            last_winner = 'Saruman'\n",
    "            saruman_wins = 1\n",
    "        else:\n",
    "            saruman_wins = saruman_wins + 1\n",
    "        print(f\"Saruman wins the round! {saruman_wins} round(s) in a row.\")\n",
    "    if gandalf_wins == 3:\n",
    "        print(\"Gandalf is the winner of the battle\")\n",
    "        break\n",
    "       \n",
    "    if saruman_wins == 3:\n",
    "        print(\"Saruman is the winner of the battle!\")\n",
    "        break\n",
    "    print(\"It is a tie\")"
   ]
  },
  {
   "cell_type": "markdown",
   "metadata": {},
   "source": [
    "5. Find the average spell power of Gandalf and Saruman"
   ]
  },
  {
   "cell_type": "code",
   "execution_count": 139,
   "metadata": {},
   "outputs": [
    {
     "name": "stdout",
     "output_type": "stream",
     "text": [
      "Average score of Gandalf is: 39\n"
     ]
    }
   ],
   "source": [
    "import statistics as stats\n",
    "print ('Average score of Gandalf is:', stats.mean(gandalf_power))"
   ]
  },
  {
   "cell_type": "code",
   "execution_count": 140,
   "metadata": {},
   "outputs": [
    {
     "name": "stdout",
     "output_type": "stream",
     "text": [
      "Average score of Saruman is: 30.5\n"
     ]
    }
   ],
   "source": [
    "import statistics as stats\n",
    "print ('Average score of Saruman is:', stats.mean(saruman_power))"
   ]
  },
  {
   "cell_type": "markdown",
   "metadata": {},
   "source": [
    "6. Find the standard deviation of the spell power of Gandalf and Saruman."
   ]
  },
  {
   "cell_type": "code",
   "execution_count": 143,
   "metadata": {},
   "outputs": [
    {
     "name": "stdout",
     "output_type": "stream",
     "text": [
      "Standard deviation of Gandalf is: 15.951314818673865\n"
     ]
    }
   ],
   "source": [
    "import statistics as stats\n",
    "print ('Standard deviation of Gandalf is:' , stats.stdev(gandalf_power))"
   ]
  },
  {
   "cell_type": "code",
   "execution_count": 144,
   "metadata": {},
   "outputs": [
    {
     "name": "stdout",
     "output_type": "stream",
     "text": [
      "Standard deviation of Saruman is: 16.40629960309962\n"
     ]
    }
   ],
   "source": [
    "import statistics as stats\n",
    "print ('Standard deviation of Saruman is:',stats.stdev(saruman_power))"
   ]
  },
  {
   "cell_type": "code",
   "execution_count": null,
   "metadata": {},
   "outputs": [],
   "source": []
  }
 ],
 "metadata": {
  "kernelspec": {
   "display_name": "Python 3",
   "language": "python",
   "name": "python3"
  },
  "language_info": {
   "codemirror_mode": {
    "name": "ipython",
    "version": 3
   },
   "file_extension": ".py",
   "mimetype": "text/x-python",
   "name": "python",
   "nbconvert_exporter": "python",
   "pygments_lexer": "ipython3",
   "version": "3.8.5"
  }
 },
 "nbformat": 4,
 "nbformat_minor": 4
}
