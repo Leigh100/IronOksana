{
 "cells": [
  {
   "cell_type": "code",
   "execution_count": 20,
   "metadata": {},
   "outputs": [
    {
     "name": "stdout",
     "output_type": "stream",
     "text": [
      "How many times do you want to play (odd number): 5\n",
      "Enter rock, paper, scissors: rock\n",
      "Tie\n",
      "Game No:[1]\n",
      "\t You: 0 | Computer: 0\n",
      "Enter rock, paper, scissors: paper\n",
      "Tie\n",
      "Game No:[2]\n",
      "\t You: 0 | Computer: 0\n",
      "Enter rock, paper, scissors: rock\n",
      "Tie\n",
      "Game No:[3]\n",
      "\t You: 0 | Computer: 0\n",
      "Enter rock, paper, scissors: scissors\n",
      "Tie\n",
      "Game No:[4]\n",
      "\t You: 0 | Computer: 0\n",
      "Enter rock, paper, scissors: rock\n",
      "Tie\n",
      "Game No:[5]\n",
      "\t You: 0 | Computer: 0\n",
      "Game finished\n",
      "Tie\n"
     ]
    }
   ],
   "source": [
    "import random\n",
    "gestures = ['rock', 'paper', 'scissors']  \n",
    "cpu_score = 0        \n",
    "player_score = 0    \n",
    "i = 1\n",
    "\n",
    "\n",
    "n_rounds = int(input(\"How many times do you want to play (odd number): \")) \n",
    "\n",
    "while i <= n_rounds:\n",
    "    computer = str(random.choice(gestures))  \n",
    "    player = input(\"Enter rock, paper, scissors: \") \n",
    "    \n",
    "    \n",
    "    if player == computer:\n",
    "        print(\"Tie\")\n",
    "    elif player == \"rock\":\n",
    "        print(\"Computer entered: \", computer)\n",
    "        if computer == \"paper\":\n",
    "            print(\"Computer won! Paper covers Rock\")\n",
    "            cpu_score += 1\n",
    "        else:\n",
    "            print(\"You win! Rock smashes Scissors\")\n",
    "            player_score += 1\n",
    "    elif player == \"paper\":\n",
    "        print(\"Computer Enter: \", computer)\n",
    "        if computer == \"scissors\":\n",
    "            print(\"Computer won! Scissors cut Paper\")\n",
    "            cpu_score += 1\n",
    "        else:\n",
    "            print(\"You won! Paper covers Rock\")\n",
    "            player_score += 1\n",
    "    elif player == \"scissors\":\n",
    "        print(\"Computer Enter: \", computer)\n",
    "        if computer == \"rock\":\n",
    "            print(\"Computer won! Rock smashes Scissors\")\n",
    "            cpu_score += 1\n",
    "        else:\n",
    "            print(\"You win! Scissor cut Paper\")\n",
    "            player_score += 1\n",
    "    else:\n",
    "        print(\":(\")\n",
    "    print(f\"Game No:[{i}]\")\n",
    "    print(f\"\\t You: {player_score} | Computer: {cpu_score}\")\n",
    "    \n",
    "    i += 1\n",
    "print(\"Game finished\")\n",
    "\n",
    "if player_score < cpu_score:\n",
    "    print(\n",
    "        \"Computer won the game with score:\", cpu_score\n",
    "    )\n",
    "elif player_score == cpu_score:\n",
    "    print(\"Tie\")\n",
    "else:\n",
    "    print(\"You won the Game with score:\", player_score)"
   ]
  },
  {
   "cell_type": "code",
   "execution_count": null,
   "metadata": {},
   "outputs": [],
   "source": []
  },
  {
   "cell_type": "code",
   "execution_count": null,
   "metadata": {},
   "outputs": [],
   "source": []
  }
 ],
 "metadata": {
  "kernelspec": {
   "display_name": "Python 3",
   "language": "python",
   "name": "python3"
  },
  "language_info": {
   "codemirror_mode": {
    "name": "ipython",
    "version": 3
   },
   "file_extension": ".py",
   "mimetype": "text/x-python",
   "name": "python",
   "nbconvert_exporter": "python",
   "pygments_lexer": "ipython3",
   "version": "3.8.5"
  }
 },
 "nbformat": 4,
 "nbformat_minor": 4
}
